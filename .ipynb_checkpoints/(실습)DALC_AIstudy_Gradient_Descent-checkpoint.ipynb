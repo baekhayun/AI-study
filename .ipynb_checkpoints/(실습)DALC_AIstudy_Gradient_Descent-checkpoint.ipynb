{
 "cells": [
  {
   "cell_type": "markdown",
   "metadata": {
    "id": "Rg7JhIyL1OkE"
   },
   "source": [
    "# 수치미분\n"
   ]
  },
  {
   "cell_type": "code",
   "execution_count": 1,
   "metadata": {
    "id": "nu8BdCle1S2s"
   },
   "outputs": [],
   "source": [
    "def numerical_diff(f,x):\n",
    "  h = 1e-4 #0.0001 \n",
    "  return (f(x+h)-f(x-h)) / (2*h) #미분계수를 충분히 작은 h로 근사하면 우리가 아는 미분계수식과 이 식이 같음.\n",
    "#근사시킨 미분계수가 오차가 더 적음\n"
   ]
  },
  {
   "cell_type": "code",
   "execution_count": 2,
   "metadata": {
    "id": "S1VJlnx72T5m"
   },
   "outputs": [],
   "source": [
    "def function_1(x):\n",
    "  return 0.01*x**2 + 0.1*x"
   ]
  },
  {
   "cell_type": "code",
   "execution_count": 5,
   "metadata": {
    "id": "FOAQl9YY2bf2"
   },
   "outputs": [],
   "source": [
    "def tangent_line(f,x): #x점에서 접하는 접선\n",
    "  d = numerical_diff(f,x)\n",
    "  print(d)\n",
    "  y = f(x) - d*x\n",
    "  return lambda t: d*t + y"
   ]
  },
  {
   "cell_type": "code",
   "execution_count": 6,
   "metadata": {
    "id": "Rzxed7MA2qxa"
   },
   "outputs": [
    {
     "name": "stdout",
     "output_type": "stream",
     "text": [
      "0.1999999999990898\n"
     ]
    },
    {
     "data": {
      "image/png": "[encoded data removed]",
      "text/plain": [
       "<Figure size 432x288 with 1 Axes>"
      ]
     },
     "metadata": {
      "needs_background": "light"
     },
     "output_type": "display_data"
    }
   ],
   "source": [
    "import numpy as np\n",
    "import matplotlib.pylab as plt\n",
    "x = np.arange(0.0, 20.0, 0.1)\n",
    "y = function_1(x)\n",
    "plt.xlabel(\"x\")\n",
    "plt.ylabel(\"f(x)\")\n",
    "\n",
    "tf = tangent_line(function_1, 5)\n",
    "y2 = tf(x)\n",
    "\n",
    "plt.plot(x,y)\n",
    "plt.plot(x,y2)\n",
    "plt.show()"
   ]
  },
  {
   "cell_type": "markdown",
   "metadata": {
    "id": "4eGZ0TCq_yf5"
   },
   "source": [
    "## 경사하강법(Gradient descent)\n",
    "\n",
    "\n",
    "\n"
   ]
  },
  {
   "cell_type": "markdown",
   "metadata": {
    "id": "ixzUUedJVFHF"
   },
   "source": [
    "### 볼록함수(Convex Function)\n",
    "- 어떤 지점에서 시작하더라도 최적값(손실함수가 최소로하는 점)에 도달할 수 있음\n",
    "\n",
    "- 1-D Convex Function\n",
    "![](https://www.researchgate.net/profile/Miodrag_Mateljevic/publication/313821095/figure/fig5/AS:476113622310916@1490525741603/A-strictly-convex-function.png)\n",
    "<br /><sub>출처: https://www.researchgate.net/figure/A-strictly-convex-function_fig5_313821095</sub>\n",
    "\n",
    "- 2-D Convex Function  \n",
    "![](https://www.researchgate.net/publication/275069197/figure/fig8/AS:324418665500689@1454358845613/Sphere-function-D-2.png)\n",
    "<br /><sub>출처: https://www.researchgate.net/figure/Sphere-function-D-2_fig8_275069197</sub>"
   ]
  },
  {
   "cell_type": "markdown",
   "metadata": {
    "id": "DVo4WnbtRiUM"
   },
   "source": [
    "### 비볼록함수(Non-Convex Function)\n",
    "\n",
    "- 비볼록 함수는 시작점 위치에 따라 다른 최적값에 도달할 수 있음.\n",
    "\n",
    "- 1-D Non-Convex Function\n",
    "![](https://image1.slideserve.com/2659452/example-of-non-convex-function-l.jpg)\n",
    "\n",
    "<sub>출처: https://www.slideserve.com/betha/local-and-global-optima</sub>\n",
    "\n",
    "- 2-D Non-Convex Function\n",
    "\n",
    "![](https://upload.wikimedia.org/wikipedia/commons/e/e3/Non-Convex_Objective_Function.gif)\n",
    "\n",
    "<sub>출처: https://commons.wikimedia.org/wiki/File:Non-Convex_Objective_Function.gif</sub>"
   ]
  },
  {
   "cell_type": "markdown",
   "metadata": {
    "id": "r1u8PzsUVMBZ"
   },
   "source": [
    "### 경사하강법\n"
   ]
  },
  {
   "cell_type": "markdown",
   "metadata": {
    "id": "tMXY9TYKTa4P"
   },
   "source": [
    "#### 미분과 기울기\n",
    "- 스칼라를 벡터로 미분한 것\n",
    "\n",
    "## $\\quad \\frac{df(x)}{dx} = \\lim_{\\triangle x \\to 0} \\frac{f(x+\\triangle x) - f(x)}{\\triangle x}$\n",
    "\n",
    "![](https://upload.wikimedia.org/wikipedia/commons/thumb/0/0f/Gradient2.svg/2560px-Gradient2.svg.png)\n",
    "\n",
    "<sub>출처: https://ko.wikipedia.org/wiki/%EA%B8%B0%EC%9A%B8%EA%B8%B0_(%EB%B2%A1%ED%84%B0)</sub>\n",
    "\n",
    "  ## $\\quad \\triangledown f(x) = \\left( \\frac{\\partial f}{\\partial x_1}, \\frac{\\partial f}{\\partial x_2},\\ ... \\ , \\frac{\\partial f}{\\partial x_N} \\right)$\n",
    "  - 변화가 있는 지점에서는 미분값이 존재하고, 변화가 없는 지점은 미분값이 0\n",
    "  - 미분값이 클수록 변화량이 크다는 의미\n"
   ]
  },
  {
   "cell_type": "markdown",
   "metadata": {
    "id": "CmZo4rLNTccp"
   },
   "source": [
    "#### 경사하강법의 과정\n",
    "\n",
    "- 경사하강법은 한 스텝마다의 미분값에 따라 이동하는 방향을 결정\n",
    "\n",
    "- $f(x)$의 값이 변하지 않을 때까지 반복\n",
    "\n",
    "  ## $\\qquad x_n = x_{n-1} - \\eta \\frac{\\partial f}{\\partial x}$\n",
    "    \n",
    "    - $\\eta$ : 학습률(learning rate)\n",
    "\n",
    "- 즉, **미분값이 0인 지점**을 찾는 방법  \n",
    "\n",
    "![](https://cdn-images-1.medium.com/max/1600/0*fU8XFt-NCMZGAWND.)\n",
    "<br /><sub>출처: https://www.kdnuggets.com/2018/06/intuitive-introduction-gradient-descent.html</sub>\n",
    "\n",
    "\n",
    "- 2-D 경사하강법\n",
    "\n",
    "![](https://thumbs.gfycat.com/AngryInconsequentialDiplodocus-size_restricted.gif)\n",
    "<br /><sub>출처: https://gfycat.com/ko/angryinconsequentialdiplodocus</sub>"
   ]
  },
  {
   "cell_type": "markdown",
   "metadata": {
    "id": "CsK-9-3cEphu"
   },
   "source": [
    "#### 경사하강법 구현\n",
    "\n",
    "$\\quad f_1(x) = x^2$"
   ]
  },
  {
   "cell_type": "code",
   "execution_count": 11,
   "metadata": {
    "id": "5CUGyiQMEsAD"
   },
   "outputs": [],
   "source": [
    "# 손실함수 정의\n",
    "def f1(x):\n",
    "  return x**2\n",
    "\n",
    "# 손실함수를 미분한 값을 반환하는 함수 정의\n",
    "def df_dx1(x):\n",
    "  return 2*x #f1미분"
   ]
  },
  {
   "cell_type": "markdown",
   "metadata": {
    "id": "4fT6GHKI6-l4"
   },
   "source": [
    "#### gradient_descent 함수정의\n",
    "##### 매개변수로 만들어야할 5개 \n",
    "* f : 손실함수\n",
    "* df_dx : 손실함수를 미분한 값을 반환하는 함수\n",
    "* init_x : 초기값\n",
    "* learning_rate : 학습률, 하이퍼파라미터\n",
    "* step_num : 반복 횟수\n"
   ]
  },
  {
   "cell_type": "code",
   "execution_count": 12,
   "metadata": {
    "id": "ZzTrK1gcEr6g"
   },
   "outputs": [],
   "source": [
    "def gradient_descent(f, df_dx, init_x, learning_rate=0.01, step_num=100):\n",
    "  x = init_x\n",
    "  x_log, y_log = [x], [f(x)]\n",
    "\n",
    "  for i in range(step_num):\n",
    "    grad = df_dx(x)\n",
    "    x -= learning_rate * grad #learning rate가 찍을 점의 보폭 느낌. 작으면 많은 점을 찍고 목적지에 도착하거나 못 가는 경우 발생. 크면 무질서하게 빨리 건너뜀.\n",
    "\n",
    "    x_log.append(x)\n",
    "    y_log.append(f(x))        # x,y 값의 변화를 로그로 저장\n",
    "\n",
    "  return x_log, y_log"
   ]
  },
  {
   "cell_type": "markdown",
   "metadata": {
    "id": "zEicOhyGE48y"
   },
   "source": [
    "#### 경사하강법 시각화"
   ]
  },
  {
   "cell_type": "code",
   "execution_count": 13,
   "metadata": {
    "colab": {
     "base_uri": "https://localhost:8080/",
     "height": 262
    },
    "id": "r8sIzMtlEr33",
    "outputId": "294afa6e-69aa-4445-e0a0-4ba851907cc2"
   },
   "outputs": [
    {
     "data": {
      "image/png": "[encoded data removed]",
      "text/plain": [
       "<Figure size 432x288 with 1 Axes>"
      ]
     },
     "metadata": {},
     "output_type": "display_data"
    }
   ],
   "source": [
    "import matplotlib.pyplot as plt\n",
    "import numpy as np\n",
    "plt.style.use('seaborn-whitegrid')\n",
    "\n",
    "x_init = 5\n",
    "x_log, y_log = gradient_descent(f1,df_dx1, init_x = x_init)\n",
    "plt.scatter(x_log, y_log, color='red')\n",
    "\n",
    "x = np.arange(-5, 5, 0.01)\n",
    "plt.plot(x, f1(x))\n",
    "plt.grid()\n",
    "plt.show()"
   ]
  },
  {
   "cell_type": "markdown",
   "metadata": {
    "id": "Sd2g3OL-Efwv"
   },
   "source": [
    "### 학습률(learning rate)\n",
    "- 학습률 값은 적절히 지정해야 한다!\n",
    "- 너무 크면 발산하고, 너무 작으면 학습이 잘 되지 않는다.\n",
    "  \n",
    "![](https://cdn-images-1.medium.com/freeze/max/1000/1*22oh44C5tUHbZ0yvIKWDFg.png)\n",
    "<sub>출처: https://mc.ai/an-introduction-to-gradient-descent-algorithm/</sub>\n"
   ]
  }
 ],
 "metadata": {
  "colab": {
   "collapsed_sections": [],
   "name": "(실습)DALC_AIstudy_Gradient Descent",
   "provenance": []
  },
  "kernelspec": {
   "display_name": "Python 3",
   "language": "python",
   "name": "python3"
  },
  "language_info": {
   "codemirror_mode": {
    "name": "ipython",
    "version": 3
   },
   "file_extension": ".py",
   "mimetype": "text/x-python",
   "name": "python",
   "nbconvert_exporter": "python",
   "pygments_lexer": "ipython3",
   "version": "3.7.6"
  }
 },
 "nbformat": 4,
 "nbformat_minor": 1
}
